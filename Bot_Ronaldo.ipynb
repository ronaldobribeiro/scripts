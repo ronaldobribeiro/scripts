{
  "nbformat": 4,
  "nbformat_minor": 0,
  "metadata": {
    "colab": {
      "name": "Bot_Ronaldo.ipynb",
      "provenance": [],
      "authorship_tag": "ABX9TyN6QkykenveEsIKky/F7jgv",
      "include_colab_link": true
    },
    "kernelspec": {
      "name": "python3",
      "display_name": "Python 3"
    },
    "language_info": {
      "name": "python"
    }
  },
  "cells": [
    {
      "cell_type": "markdown",
      "metadata": {
        "id": "view-in-github",
        "colab_type": "text"
      },
      "source": [
        "<a href=\"https://colab.research.google.com/github/ronaldobribeiro/Estudo/blob/main/Bot_Ronaldo.ipynb\" target=\"_parent\"><img src=\"https://colab.research.google.com/assets/colab-badge.svg\" alt=\"Open In Colab\"/></a>"
      ]
    },
    {
      "cell_type": "markdown",
      "metadata": {
        "id": "MPzOAtxFboy6"
      },
      "source": [
        "Criando ChatBot - Treinamento"
      ]
    },
    {
      "cell_type": "code",
      "metadata": {
        "colab": {
          "base_uri": "https://localhost:8080/"
        },
        "id": "pqGktkYU0LsQ",
        "outputId": "8774232c-7dc9-4eae-bec2-e4bf8c94c243"
      },
      "source": [
        "pip install chatterbot"
      ],
      "execution_count": null,
      "outputs": [
        {
          "output_type": "stream",
          "text": [
            "Collecting chatterbot\n",
            "  Downloading ChatterBot-1.0.8-py2.py3-none-any.whl (63 kB)\n",
            "\u001b[K     |████████████████████████████████| 63 kB 1.6 MB/s \n",
            "\u001b[?25hCollecting sqlalchemy<1.4,>=1.3\n",
            "  Downloading SQLAlchemy-1.3.24-cp37-cp37m-manylinux2010_x86_64.whl (1.3 MB)\n",
            "\u001b[K     |████████████████████████████████| 1.3 MB 9.0 MB/s \n",
            "\u001b[?25hRequirement already satisfied: pytz in /usr/local/lib/python3.7/dist-packages (from chatterbot) (2018.9)\n",
            "Requirement already satisfied: python-dateutil<2.9,>=2.8 in /usr/local/lib/python3.7/dist-packages (from chatterbot) (2.8.1)\n",
            "Collecting mathparse<0.2,>=0.1\n",
            "  Downloading mathparse-0.1.2-py3-none-any.whl (7.2 kB)\n",
            "Requirement already satisfied: six>=1.5 in /usr/local/lib/python3.7/dist-packages (from python-dateutil<2.9,>=2.8->chatterbot) (1.15.0)\n",
            "Installing collected packages: sqlalchemy, mathparse, chatterbot\n",
            "  Attempting uninstall: sqlalchemy\n",
            "    Found existing installation: SQLAlchemy 1.4.20\n",
            "    Uninstalling SQLAlchemy-1.4.20:\n",
            "      Successfully uninstalled SQLAlchemy-1.4.20\n",
            "Successfully installed chatterbot-1.0.8 mathparse-0.1.2 sqlalchemy-1.3.24\n"
          ],
          "name": "stdout"
        }
      ]
    },
    {
      "cell_type": "code",
      "metadata": {
        "id": "kaRhYg8qz5so"
      },
      "source": [
        "from chatterbot import ChatBot\n",
        "from chatterbot.trainers import ListTrainer"
      ],
      "execution_count": null,
      "outputs": []
    },
    {
      "cell_type": "code",
      "metadata": {
        "id": "zrJLnyGB0l1v"
      },
      "source": [
        "bot = ChatBot('Ronaldera')"
      ],
      "execution_count": null,
      "outputs": []
    },
    {
      "cell_type": "code",
      "metadata": {
        "id": "ed9sEfzx0rAu"
      },
      "source": [
        "conversa = ['Oi',\n",
        "            'Olá',\n",
        "            'Tudo bem?',\n",
        "            'Tudo bem sim e vc como vai?',\n",
        "            'Qual seu nome?',\n",
        "            'Ronaldera, melhor bot',\n",
        "            'Qual sua idade?',\n",
        "            'Eu tenho 1 ano e vc?',\n",
        "            'Eu gosto de números, vc não gosta?',\n",
        "            'Você esta com fome?', 'Não tenho fome sou um robô'\n",
        "    \n",
        "    ]"
      ],
      "execution_count": null,
      "outputs": []
    },
    {
      "cell_type": "code",
      "metadata": {
        "colab": {
          "base_uri": "https://localhost:8080/"
        },
        "id": "-1lrC594012z",
        "outputId": "7f4411cc-ddac-4ebf-871b-743bbbba2f71"
      },
      "source": [
        "trainer = ListTrainer(bot)\n",
        "trainer.train(conversa)\n"
      ],
      "execution_count": null,
      "outputs": [
        {
          "output_type": "stream",
          "text": [
            "List Trainer: [####################] 100%\n"
          ],
          "name": "stdout"
        }
      ]
    },
    {
      "cell_type": "code",
      "metadata": {
        "colab": {
          "base_uri": "https://localhost:8080/"
        },
        "id": "n45faDorbivg",
        "outputId": "c9ff5410-aff0-4fc4-e169-706fe6652c5f"
      },
      "source": [
        "while True:\n",
        "    pergunta = input('Usuário: ')\n",
        "    resposta = bot.get_response(pergunta)\n",
        "    \n",
        "    if float(resposta.confidence) > 0.5:\n",
        "        print('Ronaldera: ', resposta)\n",
        "    else:\n",
        "        print('Ronaldera: Ainda não sei responder esta pergunta, perdão!')\n"
      ],
      "execution_count": null,
      "outputs": [
        {
          "output_type": "stream",
          "text": [
            "Usuário: OI \n",
            "Ronaldera:  Olá\n",
            "Usuário: TUDO BEM?\n",
            "Ronaldera: Ainda não sei responder esta pergunta, perdão!\n",
            "Usuário: quantos anos você tem?\n",
            "Ronaldera: Ainda não sei responder esta pergunta, perdão!\n",
            "Usuário: qual sua idade? \n",
            "Ronaldera:  Eu tenho 1 ano e vc?\n",
            "Usuário: eu tenho 33 \n",
            "Ronaldera:  Eu gosto de números, vc não gosta?\n"
          ],
          "name": "stdout"
        }
      ]
    }
  ]
}