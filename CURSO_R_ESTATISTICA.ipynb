{
  "nbformat": 4,
  "nbformat_minor": 0,
  "metadata": {
    "colab": {
      "name": "CURSO R - ESTATISTICA.ipynb",
      "provenance": [],
      "authorship_tag": "ABX9TyOcmAbdwizQTTMHELk0s+j9",
      "include_colab_link": true
    },
    "kernelspec": {
      "name": "ir",
      "display_name": "R"
    },
    "language_info": {
      "name": "R"
    }
  },
  "cells": [
    {
      "cell_type": "markdown",
      "metadata": {
        "id": "view-in-github",
        "colab_type": "text"
      },
      "source": [
        "<a href=\"https://colab.research.google.com/github/ronaldobribeiro/scripts/blob/main/CURSO_R_ESTATISTICA.ipynb\" target=\"_parent\"><img src=\"https://colab.research.google.com/assets/colab-badge.svg\" alt=\"Open In Colab\"/></a>"
      ]
    },
    {
      "cell_type": "code",
      "metadata": {
        "colab": {
          "base_uri": "https://localhost:8080/",
          "height": 283
        },
        "id": "xXw0d4n6DkDG",
        "outputId": "ba49c7b3-6a13-4208-b6a9-dfe2c6513ce9"
      },
      "source": [
        "dados<-read.csv('dados.csv', header = TRUE, sep = ',')\n",
        "head(dados)"
      ],
      "execution_count": null,
      "outputs": [
        {
          "output_type": "display_data",
          "data": {
            "text/plain": [
              "  UF Sexo Idade Cor Anos.de.Estudo Renda Altura  \n",
              "1 11 0    23    8   12              800  1.603808\n",
              "2 11 1    23    2   12             1150  1.739790\n",
              "3 11 1    35    8   15              880  1.760444\n",
              "4 11 0    46    2    6             3500  1.783158\n",
              "5 11 1    47    8    9              150  1.690631\n",
              "6 11 1    34    8   12              790  1.637906"
            ],
            "text/latex": "A data.frame: 6 × 7\n\\begin{tabular}{r|lllllll}\n  & UF & Sexo & Idade & Cor & Anos.de.Estudo & Renda & Altura\\\\\n  & <int> & <int> & <int> & <int> & <int> & <int> & <dbl>\\\\\n\\hline\n\t1 & 11 & 0 & 23 & 8 & 12 &  800 & 1.603808\\\\\n\t2 & 11 & 1 & 23 & 2 & 12 & 1150 & 1.739790\\\\\n\t3 & 11 & 1 & 35 & 8 & 15 &  880 & 1.760444\\\\\n\t4 & 11 & 0 & 46 & 2 &  6 & 3500 & 1.783158\\\\\n\t5 & 11 & 1 & 47 & 8 &  9 &  150 & 1.690631\\\\\n\t6 & 11 & 1 & 34 & 8 & 12 &  790 & 1.637906\\\\\n\\end{tabular}\n",
            "text/markdown": "\nA data.frame: 6 × 7\n\n| <!--/--> | UF &lt;int&gt; | Sexo &lt;int&gt; | Idade &lt;int&gt; | Cor &lt;int&gt; | Anos.de.Estudo &lt;int&gt; | Renda &lt;int&gt; | Altura &lt;dbl&gt; |\n|---|---|---|---|---|---|---|---|\n| 1 | 11 | 0 | 23 | 8 | 12 |  800 | 1.603808 |\n| 2 | 11 | 1 | 23 | 2 | 12 | 1150 | 1.739790 |\n| 3 | 11 | 1 | 35 | 8 | 15 |  880 | 1.760444 |\n| 4 | 11 | 0 | 46 | 2 |  6 | 3500 | 1.783158 |\n| 5 | 11 | 1 | 47 | 8 |  9 |  150 | 1.690631 |\n| 6 | 11 | 1 | 34 | 8 | 12 |  790 | 1.637906 |\n\n",
            "text/html": [
              "<table class=\"dataframe\">\n",
              "<caption>A data.frame: 6 × 7</caption>\n",
              "<thead>\n",
              "\t<tr><th></th><th scope=col>UF</th><th scope=col>Sexo</th><th scope=col>Idade</th><th scope=col>Cor</th><th scope=col>Anos.de.Estudo</th><th scope=col>Renda</th><th scope=col>Altura</th></tr>\n",
              "\t<tr><th></th><th scope=col>&lt;int&gt;</th><th scope=col>&lt;int&gt;</th><th scope=col>&lt;int&gt;</th><th scope=col>&lt;int&gt;</th><th scope=col>&lt;int&gt;</th><th scope=col>&lt;int&gt;</th><th scope=col>&lt;dbl&gt;</th></tr>\n",
              "</thead>\n",
              "<tbody>\n",
              "\t<tr><th scope=row>1</th><td>11</td><td>0</td><td>23</td><td>8</td><td>12</td><td> 800</td><td>1.603808</td></tr>\n",
              "\t<tr><th scope=row>2</th><td>11</td><td>1</td><td>23</td><td>2</td><td>12</td><td>1150</td><td>1.739790</td></tr>\n",
              "\t<tr><th scope=row>3</th><td>11</td><td>1</td><td>35</td><td>8</td><td>15</td><td> 880</td><td>1.760444</td></tr>\n",
              "\t<tr><th scope=row>4</th><td>11</td><td>0</td><td>46</td><td>2</td><td> 6</td><td>3500</td><td>1.783158</td></tr>\n",
              "\t<tr><th scope=row>5</th><td>11</td><td>1</td><td>47</td><td>8</td><td> 9</td><td> 150</td><td>1.690631</td></tr>\n",
              "\t<tr><th scope=row>6</th><td>11</td><td>1</td><td>34</td><td>8</td><td>12</td><td> 790</td><td>1.637906</td></tr>\n",
              "</tbody>\n",
              "</table>\n"
            ]
          },
          "metadata": {}
        }
      ]
    },
    {
      "cell_type": "code",
      "metadata": {
        "colab": {
          "base_uri": "https://localhost:8080/",
          "height": 34
        },
        "id": "MrbZixjtD1Rs",
        "outputId": "5cb90c8f-9e64-4b15-ae77-0a2cd41772ca"
      },
      "source": [
        "library(glue)\n",
        "glue('De {min(dados$Idade)} até { max(dados$Idade)} anos') # forma de verificar dados em nosso dataset "
      ],
      "execution_count": null,
      "outputs": [
        {
          "output_type": "display_data",
          "data": {
            "text/plain": [
              "De 13 até 99 anos"
            ],
            "text/latex": "'De 13 até 99 anos'",
            "text/markdown": "'De 13 até 99 anos'",
            "text/html": [
              "'De 13 até 99 anos'"
            ]
          },
          "metadata": {}
        }
      ]
    },
    {
      "cell_type": "code",
      "metadata": {
        "colab": {
          "base_uri": "https://localhost:8080/",
          "height": 68
        },
        "id": "lAuWa7w2EBZw",
        "outputId": "62881d13-efc4-473b-a1c0-f69f4aa45733"
      },
      "source": [
        "table(dados$Sexo) #ENTENDENDO A FUNÇÃO TABLE "
      ],
      "execution_count": null,
      "outputs": [
        {
          "output_type": "display_data",
          "data": {
            "text/plain": [
              "\n",
              "    0     1 \n",
              "53250 23590 "
            ]
          },
          "metadata": {}
        }
      ]
    },
    {
      "cell_type": "code",
      "metadata": {
        "colab": {
          "base_uri": "https://localhost:8080/",
          "height": 145
        },
        "id": "SZQuvsRzEMsY",
        "outputId": "d6f5f31a-e41f-4584-a1f2-820973644d42"
      },
      "source": [
        "dist_freq<-cbind(freq = table(dados$Sexo), percent = prop.table(table(dados$Sexo))*100) #Criando tabela de visualização dos dados \n",
        "dist_freq\n"
      ],
      "execution_count": null,
      "outputs": [
        {
          "output_type": "display_data",
          "data": {
            "text/plain": [
              "  freq  percent \n",
              "0 53250 69.29984\n",
              "1 23590 30.70016"
            ],
            "text/latex": "A matrix: 2 × 2 of type dbl\n\\begin{tabular}{r|ll}\n  & freq & percent\\\\\n\\hline\n\t0 & 53250 & 69.29984\\\\\n\t1 & 23590 & 30.70016\\\\\n\\end{tabular}\n",
            "text/markdown": "\nA matrix: 2 × 2 of type dbl\n\n| <!--/--> | freq | percent |\n|---|---|---|\n| 0 | 53250 | 69.29984 |\n| 1 | 23590 | 30.70016 |\n\n",
            "text/html": [
              "<table class=\"dataframe\">\n",
              "<caption>A matrix: 2 × 2 of type dbl</caption>\n",
              "<thead>\n",
              "\t<tr><th></th><th scope=col>freq</th><th scope=col>percent</th></tr>\n",
              "</thead>\n",
              "<tbody>\n",
              "\t<tr><th scope=row>0</th><td>53250</td><td>69.29984</td></tr>\n",
              "\t<tr><th scope=row>1</th><td>23590</td><td>30.70016</td></tr>\n",
              "</tbody>\n",
              "</table>\n"
            ]
          },
          "metadata": {}
        }
      ]
    },
    {
      "cell_type": "code",
      "metadata": {
        "colab": {
          "base_uri": "https://localhost:8080/",
          "height": 128
        },
        "id": "pmdKia75EP3n",
        "outputId": "d3e2695f-a7d5-4be2-fd66-acd3ab57cca2"
      },
      "source": [
        "colnames(dist_freq)<-c('Frequencia', 'Porcentagem(%)') # Alterando o nome das colunas em R \n",
        "dist_freq"
      ],
      "execution_count": null,
      "outputs": [
        {
          "output_type": "display_data",
          "data": {
            "text/plain": [
              "  Frequencia Porcentagem(%)\n",
              "0 53250      69.29984      \n",
              "1 23590      30.70016      "
            ],
            "text/latex": "A matrix: 2 × 2 of type dbl\n\\begin{tabular}{r|ll}\n  & Frequencia & Porcentagem(\\%)\\\\\n\\hline\n\t0 & 53250 & 69.29984\\\\\n\t1 & 23590 & 30.70016\\\\\n\\end{tabular}\n",
            "text/markdown": "\nA matrix: 2 × 2 of type dbl\n\n| <!--/--> | Frequencia | Porcentagem(%) |\n|---|---|---|\n| 0 | 53250 | 69.29984 |\n| 1 | 23590 | 30.70016 |\n\n",
            "text/html": [
              "<table class=\"dataframe\">\n",
              "<caption>A matrix: 2 × 2 of type dbl</caption>\n",
              "<thead>\n",
              "\t<tr><th></th><th scope=col>Frequencia</th><th scope=col>Porcentagem(%)</th></tr>\n",
              "</thead>\n",
              "<tbody>\n",
              "\t<tr><th scope=row>0</th><td>53250</td><td>69.29984</td></tr>\n",
              "\t<tr><th scope=row>1</th><td>23590</td><td>30.70016</td></tr>\n",
              "</tbody>\n",
              "</table>\n"
            ]
          },
          "metadata": {}
        }
      ]
    },
    {
      "cell_type": "code",
      "metadata": {
        "colab": {
          "base_uri": "https://localhost:8080/",
          "height": 128
        },
        "id": "BT3Qdqx7ETg6",
        "outputId": "35f1b036-813f-436d-94e8-4fef8f613588"
      },
      "source": [
        "row.names(dist_freq)<-c('Masculino', 'Feminino') #MUDANDO O NOME DE COLUNAS UTILIZANDO O ROW.NAMES \n",
        "dist_freq    "
      ],
      "execution_count": null,
      "outputs": [
        {
          "output_type": "display_data",
          "data": {
            "text/plain": [
              "          Frequencia Porcentagem(%)\n",
              "Masculino 53250      69.29984      \n",
              "Feminino  23590      30.70016      "
            ],
            "text/latex": "A matrix: 2 × 2 of type dbl\n\\begin{tabular}{r|ll}\n  & Frequencia & Porcentagem(\\%)\\\\\n\\hline\n\tMasculino & 53250 & 69.29984\\\\\n\tFeminino & 23590 & 30.70016\\\\\n\\end{tabular}\n",
            "text/markdown": "\nA matrix: 2 × 2 of type dbl\n\n| <!--/--> | Frequencia | Porcentagem(%) |\n|---|---|---|\n| Masculino | 53250 | 69.29984 |\n| Feminino | 23590 | 30.70016 |\n\n",
            "text/html": [
              "<table class=\"dataframe\">\n",
              "<caption>A matrix: 2 × 2 of type dbl</caption>\n",
              "<thead>\n",
              "\t<tr><th></th><th scope=col>Frequencia</th><th scope=col>Porcentagem(%)</th></tr>\n",
              "</thead>\n",
              "<tbody>\n",
              "\t<tr><th scope=row>Masculino</th><td>53250</td><td>69.29984</td></tr>\n",
              "\t<tr><th scope=row>Feminino</th><td>23590</td><td>30.70016</td></tr>\n",
              "</tbody>\n",
              "</table>\n"
            ]
          },
          "metadata": {}
        }
      ]
    },
    {
      "cell_type": "markdown",
      "metadata": {
        "id": "BmwplSRyEny3"
      },
      "source": [
        "MODELAGEM DE NOVA TABELA"
      ]
    },
    {
      "cell_type": "code",
      "metadata": {
        "colab": {
          "base_uri": "https://localhost:8080/",
          "height": 85
        },
        "id": "nbo1_oPLEZmd",
        "outputId": "313d4898-d410-4e26-c8ce-c8a81257363f"
      },
      "source": [
        "frequencia = table(dados$Sexo, dados$Cor)\n",
        "frequencia"
      ],
      "execution_count": null,
      "outputs": [
        {
          "output_type": "display_data",
          "data": {
            "text/plain": [
              "   \n",
              "        0     2     4     6     8\n",
              "  0   256 22194  5502   235 25063\n",
              "  1   101  9621  2889   117 10862"
            ]
          },
          "metadata": {}
        }
      ]
    },
    {
      "cell_type": "code",
      "metadata": {
        "colab": {
          "base_uri": "https://localhost:8080/",
          "height": 128
        },
        "id": "pP6l5wukE93Y",
        "outputId": "2fe7856c-026d-4933-de03-de4440d82352"
      },
      "source": [
        "rownames(frequencia)= c('Masculino', 'Feminino')\n",
        "colnames(frequencia) = c('Indigena','Branca','Preta','Amarela','Parda')\n",
        "frequencia"
      ],
      "execution_count": null,
      "outputs": [
        {
          "output_type": "display_data",
          "data": {
            "text/plain": [
              "          Indigena Branca Preta Amarela Parda\n",
              "Masculino 256      22194  5502  235     25063\n",
              "Feminino  101       9621  2889  117     10862"
            ],
            "text/latex": "A matrix: 2 × 5 of type int\n\\begin{tabular}{r|lllll}\n  & Indigena & Branca & Preta & Amarela & Parda\\\\\n\\hline\n\tMasculino & 256 & 22194 & 5502 & 235 & 25063\\\\\n\tFeminino & 101 &  9621 & 2889 & 117 & 10862\\\\\n\\end{tabular}\n",
            "text/markdown": "\nA matrix: 2 × 5 of type int\n\n| <!--/--> | Indigena | Branca | Preta | Amarela | Parda |\n|---|---|---|---|---|---|\n| Masculino | 256 | 22194 | 5502 | 235 | 25063 |\n| Feminino | 101 |  9621 | 2889 | 117 | 10862 |\n\n",
            "text/html": [
              "<table class=\"dataframe\">\n",
              "<caption>A matrix: 2 × 5 of type int</caption>\n",
              "<thead>\n",
              "\t<tr><th></th><th scope=col>Indigena</th><th scope=col>Branca</th><th scope=col>Preta</th><th scope=col>Amarela</th><th scope=col>Parda</th></tr>\n",
              "</thead>\n",
              "<tbody>\n",
              "\t<tr><th scope=row>Masculino</th><td>256</td><td>22194</td><td>5502</td><td>235</td><td>25063</td></tr>\n",
              "\t<tr><th scope=row>Feminino</th><td>101</td><td> 9621</td><td>2889</td><td>117</td><td>10862</td></tr>\n",
              "</tbody>\n",
              "</table>\n"
            ]
          },
          "metadata": {}
        }
      ]
    },
    {
      "cell_type": "code",
      "metadata": {
        "colab": {
          "base_uri": "https://localhost:8080/",
          "height": 128
        },
        "id": "1R9N7dzsF8Y2",
        "outputId": "8d8f9280-963d-4e61-dd51-cea8f3108649"
      },
      "source": [
        "percentual=prop.table(frequencia)*100\n",
        "percentual"
      ],
      "execution_count": null,
      "outputs": [
        {
          "output_type": "display_data",
          "data": {
            "text/plain": [
              "          Indigena  Branca   Preta    Amarela   Parda   \n",
              "Masculino 0.3331598 28.88339 7.160333 0.3058303 32.61713\n",
              "Feminino  0.1314420 12.52082 3.759761 0.1522644 14.13587"
            ],
            "text/latex": "A matrix: 2 × 5 of type dbl\n\\begin{tabular}{r|lllll}\n  & Indigena & Branca & Preta & Amarela & Parda\\\\\n\\hline\n\tMasculino & 0.3331598 & 28.88339 & 7.160333 & 0.3058303 & 32.61713\\\\\n\tFeminino & 0.1314420 & 12.52082 & 3.759761 & 0.1522644 & 14.13587\\\\\n\\end{tabular}\n",
            "text/markdown": "\nA matrix: 2 × 5 of type dbl\n\n| <!--/--> | Indigena | Branca | Preta | Amarela | Parda |\n|---|---|---|---|---|---|\n| Masculino | 0.3331598 | 28.88339 | 7.160333 | 0.3058303 | 32.61713 |\n| Feminino | 0.1314420 | 12.52082 | 3.759761 | 0.1522644 | 14.13587 |\n\n",
            "text/html": [
              "<table class=\"dataframe\">\n",
              "<caption>A matrix: 2 × 5 of type dbl</caption>\n",
              "<thead>\n",
              "\t<tr><th></th><th scope=col>Indigena</th><th scope=col>Branca</th><th scope=col>Preta</th><th scope=col>Amarela</th><th scope=col>Parda</th></tr>\n",
              "</thead>\n",
              "<tbody>\n",
              "\t<tr><th scope=row>Masculino</th><td>0.3331598</td><td>28.88339</td><td>7.160333</td><td>0.3058303</td><td>32.61713</td></tr>\n",
              "\t<tr><th scope=row>Feminino</th><td>0.1314420</td><td>12.52082</td><td>3.759761</td><td>0.1522644</td><td>14.13587</td></tr>\n",
              "</tbody>\n",
              "</table>\n"
            ]
          },
          "metadata": {}
        }
      ]
    },
    {
      "cell_type": "markdown",
      "metadata": {
        "id": "LcHy5XZLGKPY"
      },
      "source": [
        "UTILIZAÇÃO DA FUNÇÃO TAPPLY"
      ]
    },
    {
      "cell_type": "code",
      "metadata": {
        "colab": {
          "base_uri": "https://localhost:8080/",
          "height": 79
        },
        "id": "dSYad41zGJGc",
        "outputId": "9b672713-4949-40e4-943f-b361c9ccece0"
      },
      "source": [
        "list(c(1,2,3,4),c(5,6,7))"
      ],
      "execution_count": null,
      "outputs": [
        {
          "output_type": "display_data",
          "data": {
            "text/plain": [
              "[[1]]\n",
              "[1] 1 2 3 4\n",
              "\n",
              "[[2]]\n",
              "[1] 5 6 7\n"
            ],
            "text/latex": "\\begin{enumerate}\n\\item \\begin{enumerate*}\n\\item 1\n\\item 2\n\\item 3\n\\item 4\n\\end{enumerate*}\n\n\\item \\begin{enumerate*}\n\\item 5\n\\item 6\n\\item 7\n\\end{enumerate*}\n\n\\end{enumerate}\n",
            "text/markdown": "1. 1. 1\n2. 2\n3. 3\n4. 4\n\n\n\n2. 1. 5\n2. 6\n3. 7\n\n\n\n\n\n",
            "text/html": [
              "<ol>\n",
              "\t<li><style>\n",
              ".list-inline {list-style: none; margin:0; padding: 0}\n",
              ".list-inline>li {display: inline-block}\n",
              ".list-inline>li:not(:last-child)::after {content: \"\\00b7\"; padding: 0 .5ex}\n",
              "</style>\n",
              "<ol class=list-inline><li>1</li><li>2</li><li>3</li><li>4</li></ol>\n",
              "</li>\n",
              "\t<li><style>\n",
              ".list-inline {list-style: none; margin:0; padding: 0}\n",
              ".list-inline>li {display: inline-block}\n",
              ".list-inline>li:not(:last-child)::after {content: \"\\00b7\"; padding: 0 .5ex}\n",
              "</style>\n",
              "<ol class=list-inline><li>5</li><li>6</li><li>7</li></ol>\n",
              "</li>\n",
              "</ol>\n"
            ]
          },
          "metadata": {}
        }
      ]
    },
    {
      "cell_type": "code",
      "metadata": {
        "colab": {
          "base_uri": "https://localhost:8080/",
          "height": 128
        },
        "id": "5UVZY1slGfHK",
        "outputId": "6aa43124-1646-42f4-b8c2-462e9c55249b"
      },
      "source": [
        "medias<-tapply(dados$Renda, list(dados$Sexo, dados$Cor), mean)\n",
        "\n",
        "rownames(medias)<-c('Masculino','Feminino')\n",
        "colnames(medias)<-c('Indigena','Branca','Preta','Amarela','Parda')\n",
        "medias"
      ],
      "execution_count": null,
      "outputs": [
        {
          "output_type": "display_data",
          "data": {
            "text/plain": [
              "          Indigena Branca   Preta    Amarela  Parda   \n",
              "Masculino 1081.711 2925.744 1603.862 4758.251 1659.577\n",
              "Feminino  2464.386 2109.867 1134.596 3027.342 1176.759"
            ],
            "text/latex": "A matrix: 2 × 5 of type dbl\n\\begin{tabular}{r|lllll}\n  & Indigena & Branca & Preta & Amarela & Parda\\\\\n\\hline\n\tMasculino & 1081.711 & 2925.744 & 1603.862 & 4758.251 & 1659.577\\\\\n\tFeminino & 2464.386 & 2109.867 & 1134.596 & 3027.342 & 1176.759\\\\\n\\end{tabular}\n",
            "text/markdown": "\nA matrix: 2 × 5 of type dbl\n\n| <!--/--> | Indigena | Branca | Preta | Amarela | Parda |\n|---|---|---|---|---|---|\n| Masculino | 1081.711 | 2925.744 | 1603.862 | 4758.251 | 1659.577 |\n| Feminino | 2464.386 | 2109.867 | 1134.596 | 3027.342 | 1176.759 |\n\n",
            "text/html": [
              "<table class=\"dataframe\">\n",
              "<caption>A matrix: 2 × 5 of type dbl</caption>\n",
              "<thead>\n",
              "\t<tr><th></th><th scope=col>Indigena</th><th scope=col>Branca</th><th scope=col>Preta</th><th scope=col>Amarela</th><th scope=col>Parda</th></tr>\n",
              "</thead>\n",
              "<tbody>\n",
              "\t<tr><th scope=row>Masculino</th><td>1081.711</td><td>2925.744</td><td>1603.862</td><td>4758.251</td><td>1659.577</td></tr>\n",
              "\t<tr><th scope=row>Feminino</th><td>2464.386</td><td>2109.867</td><td>1134.596</td><td>3027.342</td><td>1176.759</td></tr>\n",
              "</tbody>\n",
              "</table>\n"
            ]
          },
          "metadata": {}
        }
      ]
    }
  ]
}