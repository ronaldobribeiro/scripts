{
  "nbformat": 4,
  "nbformat_minor": 0,
  "metadata": {
    "kernelspec": {
      "display_name": "Python 3",
      "language": "python",
      "name": "python3"
    },
    "language_info": {
      "codemirror_mode": {
        "name": "ipython",
        "version": 3
      },
      "file_extension": ".py",
      "mimetype": "text/x-python",
      "name": "python",
      "nbconvert_exporter": "python",
      "pygments_lexer": "ipython3",
      "version": "3.7.3"
    },
    "colab": {
      "name": "MinerandoLog.ipynb",
      "provenance": [],
      "include_colab_link": true
    }
  },
  "cells": [
    {
      "cell_type": "markdown",
      "metadata": {
        "id": "view-in-github",
        "colab_type": "text"
      },
      "source": [
        "<a href=\"https://colab.research.google.com/github/ronaldobribeiro/scripts/blob/main/MinerandoLog.ipynb\" target=\"_parent\"><img src=\"https://colab.research.google.com/assets/colab-badge.svg\" alt=\"Open In Colab\"/></a>"
      ]
    },
    {
      "cell_type": "markdown",
      "metadata": {
        "id": "Eqicb0nEReKQ"
      },
      "source": [
        "# Minerando Dados de Um Log De Acesso"
      ]
    },
    {
      "cell_type": "markdown",
      "metadata": {
        "id": "H_DdwBiuReKS"
      },
      "source": [
        "![title](ME_MinerandoLog.png)"
      ]
    },
    {
      "cell_type": "code",
      "metadata": {
        "id": "ZoXgb8A7ReKS"
      },
      "source": [
        "arquivo = open(\"access.log\", encoding = \"utf-8\",  errors = \"ignore\")\n",
        "dados = arquivo.read()\n",
        "arquivo.close()\n",
        "\n",
        "paginas = []\n",
        "item = \"\"\n",
        "estado = 1\n",
        "\n",
        "for c in dados:\n",
        "    if estado == 1:\n",
        "        if c != \"]\":\n",
        "            estado = 1\n",
        "        else:\n",
        "            estado = 2\n",
        "    elif estado == 2:\n",
        "        if c != \" \":\n",
        "            estado = 2\n",
        "        else:\n",
        "            estado = 3\n",
        "    elif estado == 3:\n",
        "        if c != \" \":\n",
        "            estado = 3\n",
        "        else:\n",
        "            estado = 4\n",
        "    elif estado == 4:\n",
        "        if c != \" \":\n",
        "            item = item + c\n",
        "            estado = 4\n",
        "        else:\n",
        "            paginas.append(item)\n",
        "            item = \"\"\n",
        "            estado = 1"
      ],
      "execution_count": null,
      "outputs": []
    },
    {
      "cell_type": "code",
      "metadata": {
        "id": "wqsujhiAReKU",
        "outputId": "4cf5a9ee-783f-477d-a413-e4310a3674a7"
      },
      "source": [
        "print(paginas)"
      ],
      "execution_count": null,
      "outputs": [
        {
          "name": "stdout",
          "output_type": "stream",
          "text": [
            "['/modules/mod_bowslideshow/tmpl/css/bowslideshow.css', '/templates/_system/css/general.css', '/media/system/js/caption.js', '/templates/jp_hotel/css/template.css', '/templates/jp_hotel/css/layout.css', '/templates/jp_hotel/css/menu.css', '/templates/jp_hotel/css/suckerfish.css', '/templates/jp_hotel/js/moomenu.js', '/modules/mod_bowslideshow/tmpl/js/sliderman.1.3.0.js', '/media/system/js/mootools.js', '/images/stories/slideshow/almhuette_raith_01.jpg', '/images/stories/slideshow/almhuette_raith_02.jpg', '/images/stories/slideshow/almhuette_raith_03.jpg', '/images/stories/slideshow/almhuette_raith_06.jpg', '/images/stories/slideshow/almhuette_raith_04.jpg', '/images/stories/slideshow/almhuette_raith_05.jpg', '/templates/jp_hotel/images/logo.jpg', '/images/stories/slideshow/almhuette_raith_07.jpg', '/images/stories/raith/almhuette_raith.jpg', '/images/stories/raith/wohnraum.jpg', '/images/stories/raith/grillplatz.jpg', '/images/stories/raith/almenland_logo.jpg', '/images/stories/raith/oststeiermark.png', '/images/stories/raith/garage.jpg', '/images/stories/raith/steiermark_herz.png', '/modules/mod_bowslideshow/tmpl/images/image_shadow.png', '/templates/jp_hotel/images/content_heading.gif', '/images/bg_raith.jpg', '/templates/jp_hotel/images/module_heading.gif', '/images/stories/slideshow/almhuette_raith_02.jpg', '/images/stories/slideshow/almhuette_raith_04.jpg', '/images/stories/slideshow/almhuette_raith_05.jpg', '/images/stories/slideshow/almhuette_raith_06.jpg', '/images/stories/slideshow/almhuette_raith_03.jpg', '/images/stories/slideshow/almhuette_raith_01.jpg', '/images/stories/slideshow/almhuette_raith_07.jpg']\n"
          ]
        }
      ]
    }
  ]
}